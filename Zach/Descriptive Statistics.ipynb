{
 "cells": [
  {
   "cell_type": "code",
   "execution_count": 24,
   "metadata": {},
   "outputs": [],
   "source": [
    "import pandas as pd\n",
    "import matplotlib.pyplot as pt\n",
    "data = pd.read_csv(\"data.csv\", low_memory = False)\n",
    "# data.columns\n",
    "data['DATE'] = pd.to_datetime(data['EVENT_DATE'])\n",
    "def to_year(date): return date.year\n",
    "data['YEAR'] = data['DATE'].apply(to_year)\n",
    "data.EVENT_TYPE = data.EVENT_TYPE.str.upper()\n",
    "data.EVENT_TYPE = data.EVENT_TYPE.str.strip()"
   ]
  },
  {
   "cell_type": "code",
   "execution_count": 25,
   "metadata": {},
   "outputs": [
    {
     "data": {
      "text/plain": [
       "(65499, 29)"
      ]
     },
     "execution_count": 25,
     "metadata": {},
     "output_type": "execute_result"
    }
   ],
   "source": [
    "data.shape\n",
    "# data['ACTOR1'].append(data['ACTOR2']).drop_duplicates().size"
   ]
  },
  {
   "cell_type": "markdown",
   "metadata": {},
   "source": [
    "# All Fatalities Stats"
   ]
  },
  {
   "cell_type": "code",
   "execution_count": 26,
   "metadata": {},
   "outputs": [
    {
     "data": {
      "text/plain": [
       "count    65499.000000\n",
       "mean         6.601689\n",
       "std        117.840447\n",
       "min          0.000000\n",
       "25%          0.000000\n",
       "50%          0.000000\n",
       "75%          1.000000\n",
       "max      25000.000000\n",
       "Name: FATALITIES, dtype: float64"
      ]
     },
     "execution_count": 26,
     "metadata": {},
     "output_type": "execute_result"
    }
   ],
   "source": [
    "data['FATALITIES'].describe()"
   ]
  },
  {
   "cell_type": "code",
   "execution_count": 27,
   "metadata": {},
   "outputs": [
    {
     "data": {
      "text/plain": [
       "0.0"
      ]
     },
     "execution_count": 27,
     "metadata": {},
     "output_type": "execute_result"
    }
   ],
   "source": [
    "data['FATALITIES'].median()"
   ]
  },
  {
   "cell_type": "markdown",
   "metadata": {},
   "source": [
    "# Per Country"
   ]
  },
  {
   "cell_type": "code",
   "execution_count": 28,
   "metadata": {},
   "outputs": [
    {
     "name": "stdout",
     "output_type": "stream",
     "text": [
      "Eritrea\n",
      "\tmean: 194.605392157\n",
      "\tmedian: 0.0\n",
      "\tmode: 0\n",
      "Angola\n",
      "\tmean: 45.2313737818\n",
      "\tmedian: 0.0\n",
      "\tmode: 0\n",
      "Ethiopia\n",
      "\tmean: 9.21627906977\n",
      "\tmedian: 0.0\n",
      "\tmode: 0\n",
      "Chad\n",
      "\tmean: 9.16666666667\n",
      "\tmedian: 0.0\n",
      "\tmode: 0\n",
      "Democratic Republic of Congo\n",
      "\tmean: 6.44664063771\n",
      "\tmedian: 0.0\n",
      "\tmode: 0\n"
     ]
    }
   ],
   "source": [
    "countries = []\n",
    "for country in data['COUNTRY'].drop_duplicates():\n",
    "    countries.append(country)\n",
    "\n",
    "country_means = []\n",
    "for country in countries:\n",
    "    current = data[data['COUNTRY'] == country]['FATALITIES']\n",
    "    \n",
    "    country_means.append( ( current.mean(), country ) )\n",
    "\n",
    "for mean, country in sorted(country_means, reverse=True)[0:5]:\n",
    "    current = data[data['COUNTRY'] == country]['FATALITIES']\n",
    "    print(country)\n",
    "    print('\\tmean:', current.mean())\n",
    "    print('\\tmedian:', current.median())\n",
    "    print('\\tmode:', current.mode()[0])"
   ]
  },
  {
   "cell_type": "markdown",
   "metadata": {},
   "source": [
    "# Per Event Type"
   ]
  },
  {
   "cell_type": "code",
   "execution_count": 33,
   "metadata": {},
   "outputs": [
    {
     "name": "stdout",
     "output_type": "stream",
     "text": [
      "VIOLENCE AGAINST CIVILIANS\n",
      "Count: (16394,)\n",
      "\tMean:  6.96785409296\n",
      "\tMedian:  1.0\n",
      "\tMode:  0\n",
      "RIOTS/PROTESTS\n",
      "Count: (19353,)\n",
      "\tMean:  0.261148142407\n",
      "\tMedian:  0.0\n",
      "\tMode:  0\n",
      "BATTLE-NO CHANGE OF TERRITORY\n",
      "Count: (17706,)\n",
      "\tMean:  15.6744041568\n",
      "\tMedian:  1.0\n",
      "\tMode:  0\n",
      "STRATEGIC DEVELOPMENT\n",
      "Count: (5294,)\n",
      "\tMean:  0.0615791462032\n",
      "\tMedian:  0.0\n",
      "\tMode:  0\n",
      "REMOTE VIOLENCE\n",
      "Count: (3792,)\n",
      "\tMean:  4.48444092827\n",
      "\tMedian:  0.0\n",
      "\tMode:  0\n",
      "BATTLE-NON-STATE ACTOR OVERTAKES TERRITORY\n",
      "Count: (775,)\n",
      "\tMean:  8.90064516129\n",
      "\tMedian:  0.0\n",
      "\tMode:  0\n",
      "HEADQUARTERS OR BASE ESTABLISHED\n",
      "Count: (151,)\n",
      "\tMean:  0.0264900662252\n",
      "\tMedian:  0.0\n",
      "\tMode:  0\n",
      "NON-VIOLENT TRANSFER OF TERRITORY\n",
      "Count: (675,)\n",
      "\tMean:  2.96296296296\n",
      "\tMedian:  0.0\n",
      "\tMode:  0\n",
      "BATTLE-GOVERNMENT REGAINS TERRITORY\n",
      "Count: (1359,)\n",
      "\tMean:  6.88373804268\n",
      "\tMedian:  0.0\n",
      "\tMode:  0\n"
     ]
    }
   ],
   "source": [
    "types = []\n",
    "for event in data['EVENT_TYPE'].drop_duplicates():\n",
    "    types.append(event)\n",
    "\n",
    "for et in types:\n",
    "    current = data[data['EVENT_TYPE'] == et]['FATALITIES']\n",
    "    print(et)\n",
    "    print('Count:', current.shape)\n",
    "    print('\\tMean: ', current.mean())\n",
    "    print('\\tMedian: ', current.median())\n",
    "    print('\\tMode: ', current.mode()[0])"
   ]
  },
  {
   "cell_type": "code",
   "execution_count": null,
   "metadata": {},
   "outputs": [],
   "source": []
  },
  {
   "cell_type": "code",
   "execution_count": null,
   "metadata": {},
   "outputs": [],
   "source": []
  }
 ],
 "metadata": {
  "kernelspec": {
   "display_name": "Python 3",
   "language": "python",
   "name": "python3"
  },
  "language_info": {
   "codemirror_mode": {
    "name": "ipython",
    "version": 3
   },
   "file_extension": ".py",
   "mimetype": "text/x-python",
   "name": "python",
   "nbconvert_exporter": "python",
   "pygments_lexer": "ipython3",
   "version": "3.6.5"
  }
 },
 "nbformat": 4,
 "nbformat_minor": 2
}
