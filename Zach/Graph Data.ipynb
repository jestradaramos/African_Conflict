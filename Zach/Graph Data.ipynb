{
 "cells": [
  {
   "cell_type": "code",
   "execution_count": 1,
   "metadata": {},
   "outputs": [],
   "source": [
    "import pandas as pd\n",
    "import matplotlib.pyplot as pt\n",
    "data = pd.read_csv(\"data.csv\", low_memory = False)\n",
    "# data.columns\n",
    "data['DATE'] = pd.to_datetime(data['EVENT_DATE'])\n",
    "def to_year(date): return date.year\n",
    "data['YEAR'] = data['DATE'].apply(to_year)"
   ]
  },
  {
   "cell_type": "code",
   "execution_count": 2,
   "metadata": {},
   "outputs": [],
   "source": [
    "a1f = data[['INTER1', 'FATALITIES', 'YEAR']].rename(index=str, columns={\"INTER1\": \"ACTOR_TYPE\"})\n",
    "a2f = data[['INTER2', 'FATALITIES', 'YEAR']].rename(index=str, columns={\"INTER2\": \"ACTOR_TYPE\"})\n",
    "all_actors = a1f.append(a2f)\n",
    "# all_actors[all_actors['ACTOR_TYPE'] == 0]"
   ]
  },
  {
   "cell_type": "markdown",
   "metadata": {},
   "source": [
    "## Top 10 Actors with the most conflicts"
   ]
  },
  {
   "cell_type": "code",
   "execution_count": 3,
   "metadata": {},
   "outputs": [],
   "source": [
    "top10conflicts = pd.DataFrame(all_actors.groupby(all_actors[\n",
    "    'ACTOR_TYPE']).size().reset_index(name=\"Counts\").sort_values(by='Counts', ascending = False)[0:10])\n",
    "\n",
    "top10actors_conflict = []\n",
    "for actor in top10conflicts['ACTOR_TYPE']:\n",
    "    top10actors_conflict.append(actor)"
   ]
  },
  {
   "cell_type": "code",
   "execution_count": 4,
   "metadata": {},
   "outputs": [],
   "source": [
    "conflict_types = {\n",
    "    0 : \"Unkown Actor Type\",\n",
    "    1 : \"Government or mutinous force\",\n",
    "    2 : \"Rebel force\",\n",
    "    3 : \"Political militia\",\n",
    "    4 : \"Ethnic militia\",\n",
    "    5 : \"Rioters\",\n",
    "    6 : \"Protesters\",\n",
    "    7 : \"Civilians\",\n",
    "    8 : \"Outside/external force (e.g. UN)\",\n",
    "}\n",
    "\n",
    "top = all_actors[all_actors['ACTOR_TYPE'] == top10actors_conflict[0]]\n",
    "top_sorted = top.groupby(top['YEAR']).size().reset_index(name=conflict_types[top10actors_conflict[0]]).sort_values(by='YEAR', ascending = True)\n",
    "new_frame = pd.DataFrame(data=top_sorted)\n",
    "\n",
    "for i in range(1,9):\n",
    "    top = all_actors[all_actors['ACTOR_TYPE'] == top10actors_conflict[i]] \n",
    "    current_name = conflict_types[top10actors_conflict[i]]\n",
    "    top_sorted = top.groupby(top['YEAR']).size().reset_index(name=current_name).sort_values(by='YEAR', ascending = True)\n",
    "    new_frame[current_name] = top_sorted[current_name]\n",
    "\n",
    "# new_frame.to_csv('Conflict_Count')\n",
    "# print(top10actors_conflict)\n",
    "# new_frame\n",
    "#     dataFrame.append(new_series)\n",
    "#     print('name:', top10actors_conflict[i])\n",
    "#     print(top_sorted)"
   ]
  },
  {
   "cell_type": "code",
   "execution_count": 5,
   "metadata": {},
   "outputs": [],
   "source": [
    "# for g in tops:\n",
    "#     pt.plot(g['YEAR'], g['Counts'])\n",
    "\n",
    "# pt.legend(legend)\n",
    "# pt.xlabel(\"Year\")\n",
    "# pt.ylabel(\"Count\")\n",
    "# pt.show()\n",
    "# # pt.savefig('counts.png')"
   ]
  },
  {
   "cell_type": "markdown",
   "metadata": {},
   "source": [
    "## Total Fatalities over time"
   ]
  },
  {
   "cell_type": "code",
   "execution_count": 6,
   "metadata": {},
   "outputs": [],
   "source": [
    "to_plot = data.sort_values(by='YEAR')\n",
    "\n",
    "# pd.DataFrame(to_plot.groupby(to_plot['YEAR'])['FATALITIES'].sum()).plot()#.size().reset_index(name=\"Counts\").sort_values(by='Counts', ascending = False)[0:10])"
   ]
  },
  {
   "cell_type": "markdown",
   "metadata": {},
   "source": [
    "## Fatality counts by Actor Type"
   ]
  },
  {
   "cell_type": "code",
   "execution_count": 7,
   "metadata": {},
   "outputs": [],
   "source": [
    "# all_actors.groupby(['ACTOR'])['FATALITIES'].sum().sort_values(ascending = False)"
   ]
  },
  {
   "cell_type": "code",
   "execution_count": 8,
   "metadata": {},
   "outputs": [],
   "source": [
    "top10f = []\n",
    "for actor, fatalities in all_actors.groupby(['ACTOR_TYPE'])['FATALITIES'].sum().sort_values(ascending=False).iteritems():\n",
    "    top10f.append(actor)"
   ]
  },
  {
   "cell_type": "code",
   "execution_count": 11,
   "metadata": {},
   "outputs": [],
   "source": [
    "current = all_actors[all_actors['ACTOR_TYPE'] == top10f[0]]\n",
    "current_sorted = current.sort_values(by='YEAR', ascending = False)\n",
    "frame = current_sorted.groupby(current_sorted['YEAR'])['FATALITIES'].sum()\n",
    "fatalities = pd.DataFrame(data=frame)\n",
    "fatalities = fatalities.rename(index=str, columns={\"FATALITIES\": conflict_types[top10actors_conflict[0]]})\n",
    "\n",
    "for i in range(1,9):\n",
    "    current = all_actors[all_actors['ACTOR_TYPE'] == top10f[i]]\n",
    "    current_sorted = current.sort_values(by='YEAR', ascending = False)\n",
    "    frame = pd.DataFrame(current_sorted.groupby(current_sorted['YEAR'])['FATALITIES'].sum())\n",
    "    frame = frame.rename(index=str, columns={\"FATALITIES\": conflict_types[top10actors_conflict[i]]})\n",
    "    fatalities[conflict_types[top10actors_conflict[i]]]  = frame[conflict_types[top10actors_conflict[i]]]\n",
    "fatalities.to_csv('fatalities.csv')"
   ]
  },
  {
   "cell_type": "code",
   "execution_count": null,
   "metadata": {},
   "outputs": [],
   "source": []
  }
 ],
 "metadata": {
  "kernelspec": {
   "display_name": "Python 3",
   "language": "python",
   "name": "python3"
  },
  "language_info": {
   "codemirror_mode": {
    "name": "ipython",
    "version": 3
   },
   "file_extension": ".py",
   "mimetype": "text/x-python",
   "name": "python",
   "nbconvert_exporter": "python",
   "pygments_lexer": "ipython3",
   "version": "3.6.5"
  }
 },
 "nbformat": 4,
 "nbformat_minor": 2
}
