{
 "cells": [
  {
   "cell_type": "code",
   "execution_count": 36,
   "metadata": {},
   "outputs": [
    {
     "name": "stdout",
     "output_type": "stream",
     "text": [
      "done\n"
     ]
    }
   ],
   "source": [
    "import pandas as pd\n",
    "import matplotlib.pyplot as pt\n",
    "data = pd.read_csv(\"data.csv\", low_memory = False)\n",
    "# data.columns\n",
    "data['DATE'] = pd.to_datetime(data['EVENT_DATE'])\n",
    "def to_year(date): return date.year\n",
    "data['YEAR'] = data['DATE'].apply(to_year)\n",
    "print('done')"
   ]
  },
  {
   "cell_type": "code",
   "execution_count": 41,
   "metadata": {},
   "outputs": [
    {
     "name": "stdout",
     "output_type": "stream",
     "text": [
      "done\n"
     ]
    }
   ],
   "source": [
    "a1f = data[['ACTOR1', 'FATALITIES', 'YEAR']].rename(index=str, columns={\"ACTOR1\": \"ACTOR\"})\n",
    "a2f = data[['ACTOR2', 'FATALITIES', 'YEAR']].rename(index=str, columns={\"ACTOR2\": \"ACTOR\"})\n",
    "all_actors = pd.DataFrame(a1f.append(a2f))\n",
    "print('done')"
   ]
  },
  {
   "cell_type": "markdown",
   "metadata": {},
   "source": [
    "## Top 10 conflicts by actor"
   ]
  },
  {
   "cell_type": "code",
   "execution_count": 42,
   "metadata": {},
   "outputs": [
    {
     "name": "stdout",
     "output_type": "stream",
     "text": [
      "done\n"
     ]
    }
   ],
   "source": [
    "top10conflicts = pd.DataFrame(all_actors.groupby(all_actors['ACTOR']).size().reset_index(name=\"Counts\").sort_values(by='Counts', ascending = False)[0:10])\n",
    "\n",
    "top10actors_conflict = []\n",
    "for actor in top10conflicts['ACTOR']:\n",
    "    top10actors_conflict.append(actor)\n",
    "\n",
    "top0 = all_actors[all_actors['ACTOR'] == top10actors_conflict[0]]\n",
    "\n",
    "# for i in range(1,10):\n",
    "#     top10overTime = top10overTime.append(all_actors[all_actors['ACTOR'] == top10actors_conflict[i]])\n",
    "\n",
    "print('done')"
   ]
  },
  {
   "cell_type": "code",
   "execution_count": 60,
   "metadata": {},
   "outputs": [
    {
     "data": {
      "text/plain": [
       "[<matplotlib.lines.Line2D at 0x117edd550>]"
      ]
     },
     "execution_count": 60,
     "metadata": {},
     "output_type": "execute_result"
    },
    {
     "data": {
      "image/png": "[encoded data removed]",
      "text/plain": [
       "<matplotlib.figure.Figure at 0x117ef7278>"
      ]
     },
     "metadata": {},
     "output_type": "display_data"
    }
   ],
   "source": [
    "top0sorted = top0.groupby(top0['YEAR']).size().reset_index(name=\"Counts\").sort_values(by='YEAR', ascending = False)\n",
    "\n",
    "for i in range(10):\n",
    "    # plot these all of them\n",
    "    pt.plot(top0sorted['YEAR'], top0sorted['Counts'])"
   ]
  },
  {
   "cell_type": "markdown",
   "metadata": {},
   "source": [
    "## Top 10 fatality counts by Actor"
   ]
  },
  {
   "cell_type": "code",
   "execution_count": null,
   "metadata": {},
   "outputs": [],
   "source": [
    "top10f = pd.DataFrame(all_actors.groupby(['ACTOR'])['FATALITIES'].sum()).sort_values(by = 'FATALITIES', ascending = False)[0:10]\n",
    "top10f['FATALITIES']"
   ]
  },
  {
   "cell_type": "code",
   "execution_count": null,
   "metadata": {},
   "outputs": [],
   "source": [
    "top10f.plot(kind = 'barh')"
   ]
  },
  {
   "cell_type": "code",
   "execution_count": null,
   "metadata": {},
   "outputs": [],
   "source": []
  }
 ],
 "metadata": {
  "kernelspec": {
   "display_name": "Python 3",
   "language": "python",
   "name": "python3"
  },
  "language_info": {
   "codemirror_mode": {
    "name": "ipython",
    "version": 3
   },
   "file_extension": ".py",
   "mimetype": "text/x-python",
   "name": "python",
   "nbconvert_exporter": "python",
   "pygments_lexer": "ipython3",
   "version": "3.6.5"
  }
 },
 "nbformat": 4,
 "nbformat_minor": 2
}
