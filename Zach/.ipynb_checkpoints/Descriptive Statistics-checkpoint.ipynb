{
 "cells": [
  {
   "cell_type": "code",
   "execution_count": null,
   "metadata": {},
   "outputs": [],
   "source": [
    "import pandas as pd\n",
    "import matplotlib.pyplot as pt\n",
    "data = pd.read_csv(\"data.csv\", low_memory = False)\n",
    "# data.columns\n",
    "data['DATE'] = pd.to_datetime(data['EVENT_DATE'])\n",
    "def to_year(date): return date.year\n",
    "data['YEAR'] = data['DATE'].apply(to_year)"
   ]
  },
  {
   "cell_type": "code",
   "execution_count": 3,
   "metadata": {},
   "outputs": [
    {
     "data": {
      "text/plain": [
       "Index(['ACTOR1', 'ACTOR1_ID', 'ACTOR2', 'ACTOR2_ID', 'ACTOR_DYAD_ID', 'ADMIN1',\n",
       "       'ADMIN2', 'ADMIN3', 'ALLY_ACTOR_1', 'ALLY_ACTOR_2', 'COUNTRY',\n",
       "       'EVENT_DATE', 'EVENT_ID_CNTY', 'EVENT_ID_NO_CNTY', 'EVENT_TYPE',\n",
       "       'FATALITIES', 'GEO_PRECISION', 'GWNO', 'INTER1', 'INTER2',\n",
       "       'INTERACTION', 'LATITUDE', 'LOCATION', 'LONGITUDE', 'NOTES', 'SOURCE',\n",
       "       'TIME_PRECISION', 'YEAR', 'DATE'],\n",
       "      dtype='object')"
      ]
     },
     "execution_count": 3,
     "metadata": {},
     "output_type": "execute_result"
    }
   ],
   "source": [
    "data.columns"
   ]
  },
  {
   "cell_type": "markdown",
   "metadata": {},
   "source": [
    "# All Fatalities Stats"
   ]
  },
  {
   "cell_type": "code",
   "execution_count": null,
   "metadata": {},
   "outputs": [],
   "source": [
    "data['FATALITIES'].describe()"
   ]
  },
  {
   "cell_type": "code",
   "execution_count": null,
   "metadata": {},
   "outputs": [],
   "source": [
    "data['FATALITIES'].median()"
   ]
  },
  {
   "cell_type": "markdown",
   "metadata": {},
   "source": [
    "# Per Country"
   ]
  },
  {
   "cell_type": "code",
   "execution_count": 2,
   "metadata": {},
   "outputs": [],
   "source": [
    "countries = []\n",
    "for country in data['COUNTRY'].drop_duplicates():\n",
    "    countries.append(country)\n",
    "\n",
    "# for country in countries:\n",
    "#     current = data[data['COUNTRY'] == country]['FATALITIES']\n",
    "#     print(country)\n",
    "#     print('\\tMean: ', current.mean())\n",
    "#     print('\\tMedian: ', current.median())\n",
    "#     print('\\tMode: ', current.mode()[0])"
   ]
  },
  {
   "cell_type": "markdown",
   "metadata": {},
   "source": [
    "# Per Event Type"
   ]
  },
  {
   "cell_type": "code",
   "execution_count": 4,
   "metadata": {},
   "outputs": [
    {
     "data": {
      "text/plain": [
       "['Violence against civilians',\n",
       " 'Riots/Protests',\n",
       " 'Battle-No change of territory',\n",
       " 'Strategic development',\n",
       " 'Remote violence',\n",
       " 'Battle-no change of territory',\n",
       " 'Battle-Non-state actor overtakes territory',\n",
       " 'Headquarters or base established',\n",
       " 'Non-violent transfer of territory',\n",
       " 'Battle-Government regains territory',\n",
       " 'Remote Violence',\n",
       " 'Violence Against Civilians',\n",
       " 'Strategic Development',\n",
       " 'Strategic development ']"
      ]
     },
     "execution_count": 4,
     "metadata": {},
     "output_type": "execute_result"
    }
   ],
   "source": [
    "types = []\n",
    "for event in data['EVENT_TYPE'].drop_duplicates():\n",
    "    types.append(event)\n",
    "\n",
    "types\n",
    "    \n",
    "\n",
    "# for country in countries:\n",
    "#     current = data[data['COUNTRY'] == country]['FATALITIES']\n",
    "#     print(country)\n",
    "#     print('\\tMean: ', current.mean())\n",
    "#     print('\\tMedian: ', current.median())\n",
    "#     print('\\tMode: ', current.mode()[0])"
   ]
  },
  {
   "cell_type": "code",
   "execution_count": null,
   "metadata": {},
   "outputs": [],
   "source": []
  }
 ],
 "metadata": {
  "kernelspec": {
   "display_name": "Python 3",
   "language": "python",
   "name": "python3"
  },
  "language_info": {
   "codemirror_mode": {
    "name": "ipython",
    "version": 3
   },
   "file_extension": ".py",
   "mimetype": "text/x-python",
   "name": "python",
   "nbconvert_exporter": "python",
   "pygments_lexer": "ipython3",
   "version": "3.6.5"
  }
 },
 "nbformat": 4,
 "nbformat_minor": 2
}
